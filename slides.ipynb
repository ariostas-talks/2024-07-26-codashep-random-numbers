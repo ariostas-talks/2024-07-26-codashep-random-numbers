{
 "cells": [
  {
   "cell_type": "markdown",
   "id": "d21e3400-617c-44d5-b0c5-5f4bbcc1ec6f",
   "metadata": {
    "editable": true,
    "slideshow": {
     "slide_type": "slide"
    },
    "tags": []
   },
   "source": [
    "<center>\n",
    "    <h1>The Use and Abuse of Random Numbers</h1>\n",
    "    <h2>Andres Rios-Tascon</h2>\n",
    "    <h4>CoDaS-HEP 2024</h4>\n",
    "    <img src=\"images/PU_lockup.png\" style=\"height:50px;\"/>&nbsp&nbsp&nbsp&nbsp&nbsp<img src=\"images/Iris-hep-4-no-long-name.png\" style=\"height:50px;\"/>\n",
    "    <br/>\n",
    "    <font size=\"4\">(Based on material by David Lange, Dan Riley, and Tim Mattson)</font>\n",
    "</center>"
   ]
  },
  {
   "cell_type": "markdown",
   "id": "4f5e138f-91de-418c-94f4-585c53794134",
   "metadata": {
    "editable": true,
    "slideshow": {
     "slide_type": "slide"
    },
    "tags": []
   },
   "source": [
    "## Takeaway message\n",
    "\n",
    "There are pitfalls and limitations when using random number generators that you need to be aware of."
   ]
  },
  {
   "cell_type": "markdown",
   "id": "a3ae6f81-00b9-4eee-a917-276b4d382ca3",
   "metadata": {
    "editable": true,
    "slideshow": {
     "slide_type": "fragment"
    },
    "tags": []
   },
   "source": [
    "## Lesson plan\n",
    "\n",
    "- Primer on Random Number Generators (RNGs)\n",
    "- An RNG example: Linear Congruential Generator (LCG)\n",
    "- Exercise 1\n",
    "- 3 common pitfalls (and how to avoid them)\n",
    "- Exercise 2\n",
    "- Summary"
   ]
  },
  {
   "attachments": {},
   "cell_type": "markdown",
   "id": "c29309c6-aa86-41df-9448-1867e49358dc",
   "metadata": {
    "editable": true,
    "slideshow": {
     "slide_type": "slide"
    },
    "tags": []
   },
   "source": [
    "# Random Number Generator (RNG)\n",
    "\n",
    "- It is a tool that generates a sequence of numbers (with some distribution) where each member has no discernible correlation with the others."
   ]
  },
  {
   "cell_type": "markdown",
   "id": "b4f616f6-87b2-48a6-a515-31c8ed36363c",
   "metadata": {
    "editable": true,
    "slideshow": {
     "slide_type": "fragment"
    },
    "tags": []
   },
   "source": [
    "- It is not possible prove that a sequence is random. We can only prove that one is not."
   ]
  },
  {
   "cell_type": "markdown",
   "id": "5c10ee01-4923-47b5-86ad-ddf2372ea3d8",
   "metadata": {
    "editable": true,
    "slideshow": {
     "slide_type": "slide"
    },
    "tags": []
   },
   "source": [
    "## RNGs are used everywhere"
   ]
  },
  {
   "cell_type": "markdown",
   "id": "8e8c0bfa-5061-4498-9318-ece0f6954721",
   "metadata": {
    "editable": true,
    "slideshow": {
     "slide_type": "fragment"
    },
    "tags": []
   },
   "source": [
    "- In videogames, introducing variability to make them more interesting."
   ]
  },
  {
   "cell_type": "markdown",
   "id": "6df961fe-ccbb-496a-bdc7-5576545951b7",
   "metadata": {
    "editable": true,
    "slideshow": {
     "slide_type": "fragment"
    },
    "tags": []
   },
   "source": [
    "- In cryptography, to generate encryption keys to keep information and communications secure.\n",
    " "
   ]
  },
  {
   "cell_type": "markdown",
   "id": "24a51e83-9bba-4ac3-8e9b-295ade290059",
   "metadata": {
    "editable": true,
    "slideshow": {
     "slide_type": "fragment"
    },
    "tags": []
   },
   "source": [
    "- In HEP:\n",
    "  - Monte Carlo physics generators (e.g. `Pythia`)\n",
    "  - Monte Carlo detector simulation (e.g. `Geant4`)\n",
    "  - Monte Carlo digitization (e.g. electronics simulation)\n",
    "  - Statistical analysis (e.g. significance tests, importance sampling)\n",
    "  - ..."
   ]
  },
  {
   "cell_type": "markdown",
   "id": "60f77439-594a-4a83-bf10-9f34cd649f03",
   "metadata": {
    "editable": true,
    "slideshow": {
     "slide_type": "slide"
    },
    "tags": []
   },
   "source": [
    "## \"True\" random number generators are tricky\n",
    "\n",
    "Computers are deterministic machines, so one needs an external entropy source."
   ]
  },
  {
   "cell_type": "markdown",
   "id": "7c748307-0b64-4ba3-85ff-2feae3f341a8",
   "metadata": {
    "editable": true,
    "slideshow": {
     "slide_type": "fragment"
    },
    "tags": []
   },
   "source": [
    "- User input\n",
    "  - e.g. tracking your mouse movement"
   ]
  },
  {
   "cell_type": "markdown",
   "id": "31487648-c652-4f93-8033-2756e6b02f43",
   "metadata": {
    "editable": true,
    "slideshow": {
     "slide_type": "fragment"
    },
    "tags": []
   },
   "source": [
    "- Physical noise\n",
    "  - Intel developed an RNG that used thermal noise\n",
    "  - <https://random.org> uses atmospheric noise"
   ]
  },
  {
   "cell_type": "markdown",
   "id": "daf71e8a-5f58-4770-9c48-9864a33908bf",
   "metadata": {
    "editable": true,
    "slideshow": {
     "slide_type": "fragment"
    },
    "tags": []
   },
   "source": [
    "- Some other creative approach\n",
    "  -  Cloudflare uses a \"Wall of Entropy\" (Silicon Graphics previously did too)\n",
    "\n",
    "<center>\n",
    "    <img src=\"https://upload.wikimedia.org/wikipedia/commons/thumb/b/bb/Lava_lamp_wall_at_Cloudflare_office_-2.jpg/1280px-Lava_lamp_wall_at_Cloudflare_office_-2.jpg\" style=\"height:400px;\"/><br/>\n",
    "    <font size=\"2\">Image from Wikipedia</font>\n",
    "</center>"
   ]
  },
  {
   "cell_type": "markdown",
   "id": "ca4550b1-2d4d-4101-9e42-152515fc6e57",
   "metadata": {
    "editable": true,
    "slideshow": {
     "slide_type": "fragment"
    },
    "tags": []
   },
   "source": [
    "These are generally not computationally affordable on the scale we need them. For example a the detector simulation of single TTbar event through the CMS detector takes of order **2 million random numbers**."
   ]
  },
  {
   "cell_type": "markdown",
   "id": "02feb536-c83e-471b-bec2-9774e251ac01",
   "metadata": {
    "editable": true,
    "slideshow": {
     "slide_type": "slide"
    },
    "tags": []
   },
   "source": [
    "## Pseudo-Random Number Generator\n",
    "\n",
    "- It is a tool that algorithmically computes a sequence of \"random-looking\" numbers."
   ]
  },
  {
   "cell_type": "markdown",
   "id": "e07854ea-98e0-48cf-b935-e04ad966b60a",
   "metadata": {
    "editable": true,
    "slideshow": {
     "slide_type": "fragment"
    },
    "tags": []
   },
   "source": [
    "- Have some useful properties:\n",
    "  - Can be faster than \"true\" RNGs\n",
    "  - Are reproducible\n",
    "  - Have minimal hardware requirements\n",
    "  - Have mechanisms to support parallelism"
   ]
  },
  {
   "cell_type": "markdown",
   "id": "56fddbf5-a411-4fd0-83b7-e64c27b1c1ee",
   "metadata": {
    "editable": true,
    "slideshow": {
     "slide_type": "fragment"
    },
    "tags": []
   },
   "source": [
    "There are lots of ways to create a not-so-good random number generator. Creating a good or \"good enough\" random number generator is hard. Leave that go people working specifically on that."
   ]
  },
  {
   "cell_type": "markdown",
   "id": "8894531b-1c88-4caf-967c-529474c57639",
   "metadata": {
    "editable": true,
    "slideshow": {
     "slide_type": "slide"
    },
    "tags": []
   },
   "source": [
    "## An RNG example: Linear Congruential Generator (LCG)\n",
    "\n",
    "- Linear Congruential Generators (LCGs) are fast and simple, and were widely used."
   ]
  },
  {
   "cell_type": "markdown",
   "id": "03ba5b5d-7977-4997-b5e4-2bdd984f145b",
   "metadata": {
    "editable": true,
    "slideshow": {
     "slide_type": "fragment"
    },
    "tags": []
   },
   "source": [
    "- The sequence of numbers is generated with the following formula.\n",
    "$$X_{n+1} = (aX_n + c) \\text{ mod } m$$\n",
    "With modulus $m$, multiplier $a$, increment $c$, starting value (or \"seed\") $X_0$."
   ]
  },
  {
   "cell_type": "markdown",
   "id": "07a8d665-ad71-4672-96c5-a563736cce2b",
   "metadata": {
    "editable": true,
    "slideshow": {
     "slide_type": "fragment"
    },
    "tags": []
   },
   "source": [
    "- Choice of constants is critical! If the constants are chosen carefully, the sequence length, or \"period\" is set by the modulus."
   ]
  },
  {
   "cell_type": "markdown",
   "id": "dca2443a-4f52-4427-9a2f-ec89bb725554",
   "metadata": {
    "editable": true,
    "slideshow": {
     "slide_type": "fragment"
    },
    "tags": []
   },
   "source": [
    "- There are standard collections of reasonable values. Many naive RNG implementations are still LCGs (including many default C libraries)."
   ]
  },
  {
   "cell_type": "markdown",
   "id": "bbcccd08-1360-4304-805b-e67628708a8f",
   "metadata": {
    "editable": true,
    "slideshow": {
     "slide_type": "slide"
    },
    "tags": []
   },
   "source": [
    "## Let's look at a simple Python implementation\n",
    "\n",
    "<p style=\"color:red;\">Note: This is for demonstration purposes. Always use a library with good RNGs for your projects.</p>"
   ]
  },
  {
   "cell_type": "code",
   "execution_count": null,
   "id": "49dd76a4-77c8-41af-9ee3-f972693793a3",
   "metadata": {
    "editable": true,
    "slideshow": {
     "slide_type": "fragment"
    },
    "tags": []
   },
   "outputs": [],
   "source": [
    "import numpy as np\n",
    "from numpy.typing import NDArray\n",
    "# If you're not using Binder and don't have numba, just comment out everything from here to \"class\"\n",
    "from numba.experimental import jitclass\n",
    "from numba import int64\n",
    "\n",
    "spec = [ ('multiplier', int64), ('addend', int64), ('modulus', int64), ('seed', int64), ('last', int64) ]\n",
    "@jitclass(spec)\n",
    "class LCG:\n",
    "    def __init__(\n",
    "        self,\n",
    "        # We use \"good\" default values by default\n",
    "        seed: int = 1,\n",
    "        multiplier: int = 1_366,\n",
    "        addend: int = 150_889,\n",
    "        modulus: int = 714_025\n",
    "    ) -> None:\n",
    "        \"\"\"Initialize an LCG instance\"\"\"\n",
    "        self.multiplier = multiplier\n",
    "        self.addend = addend\n",
    "        self.modulus = modulus\n",
    "        self.last = seed\n",
    "\n",
    "    def rand(self) -> float:\n",
    "        \"\"\"Return a single random number between 0 and 1\"\"\"\n",
    "        self.last = (self.multiplier * self.last + self.addend) % self.modulus\n",
    "        return self.last/self.modulus\n",
    "\n",
    "    def randv(self, size: int = 1) -> NDArray[np.float64]:\n",
    "        \"\"\"Return a numpy array of random numbers between 0 and 1\"\"\"\n",
    "        v = np.empty(size, dtype=np.float64)\n",
    "        for i in range(size):\n",
    "            v[i] = self.rand()\n",
    "        return v"
   ]
  },
  {
   "cell_type": "markdown",
   "id": "de2ffdb3-c3f1-44f1-992b-49eb92d690c6",
   "metadata": {
    "editable": true,
    "slideshow": {
     "slide_type": ""
    },
    "tags": []
   },
   "source": [
    " "
   ]
  },
  {
   "cell_type": "markdown",
   "id": "23b6e45b-34d9-4ad7-adf3-0c6de2473af0",
   "metadata": {
    "editable": true,
    "slideshow": {
     "slide_type": "slide"
    },
    "tags": []
   },
   "source": [
    "## Let's try it out with our own parameters"
   ]
  },
  {
   "cell_type": "code",
   "execution_count": null,
   "id": "d6506201-53db-4dab-8b36-0f121d122b6a",
   "metadata": {
    "editable": true,
    "slideshow": {
     "slide_type": "fragment"
    },
    "tags": []
   },
   "outputs": [],
   "source": [
    "my_lcg = LCG(seed=7, multiplier=7, addend=7, modulus=10)"
   ]
  },
  {
   "cell_type": "code",
   "execution_count": null,
   "id": "6d386593-a638-4188-9d16-0e4f4d1765ab",
   "metadata": {
    "editable": true,
    "scrolled": true,
    "slideshow": {
     "slide_type": "fragment"
    },
    "tags": []
   },
   "outputs": [],
   "source": [
    "print(my_lcg.rand())\n",
    "print(my_lcg.rand())\n",
    "print(my_lcg.rand())"
   ]
  },
  {
   "cell_type": "markdown",
   "id": "8f820d1a-e192-4126-9414-15dbb012059e",
   "metadata": {
    "editable": true,
    "slideshow": {
     "slide_type": "fragment"
    },
    "tags": []
   },
   "source": [
    " "
   ]
  },
  {
   "cell_type": "markdown",
   "id": "48461659-8fd7-4e23-b080-1311b027fca3",
   "metadata": {
    "editable": true,
    "slideshow": {
     "slide_type": "fragment"
    },
    "tags": []
   },
   "source": [
    "Seems pretty random so far..."
   ]
  },
  {
   "cell_type": "code",
   "execution_count": null,
   "id": "4015e9cc-ec03-4475-81bf-449d047210cd",
   "metadata": {
    "editable": true,
    "slideshow": {
     "slide_type": "fragment"
    },
    "tags": []
   },
   "outputs": [],
   "source": [
    "my_lcg.randv(10)"
   ]
  },
  {
   "cell_type": "markdown",
   "id": "705f80d8-af05-42d7-9618-08368bfae6d9",
   "metadata": {
    "editable": true,
    "slideshow": {
     "slide_type": "fragment"
    },
    "tags": []
   },
   "source": [
    " "
   ]
  },
  {
   "cell_type": "markdown",
   "id": "d24e90a0-b4ca-447f-b35e-f378ae3f4302",
   "metadata": {
    "editable": true,
    "slideshow": {
     "slide_type": "fragment"
    },
    "tags": []
   },
   "source": [
    "Oh no... that's bad!\n",
    "\n",
    "We would have expected a period of 10, but the period is 4. We're starting to see that it's tricky to get it right."
   ]
  },
  {
   "cell_type": "markdown",
   "id": "b4d0b223-ee9e-45af-83f7-d4ebbf37fc4f",
   "metadata": {
    "editable": true,
    "slideshow": {
     "slide_type": "slide"
    },
    "tags": []
   },
   "source": [
    "## Let's make a new instance with the default parameters"
   ]
  },
  {
   "cell_type": "code",
   "execution_count": null,
   "id": "a8c0985c-5aa1-4a6d-8016-3e223247ecaa",
   "metadata": {
    "editable": true,
    "slideshow": {
     "slide_type": "fragment"
    },
    "tags": []
   },
   "outputs": [],
   "source": [
    "my_lcg = LCG()\n",
    "my_lcg.randv(50)"
   ]
  },
  {
   "cell_type": "markdown",
   "id": "128dfad7-b218-4ec5-beb6-3927cd90366f",
   "metadata": {
    "editable": true,
    "slideshow": {
     "slide_type": "fragment"
    },
    "tags": []
   },
   "source": [
    "Now it looks a lot better!"
   ]
  },
  {
   "cell_type": "markdown",
   "id": "229e2ac8-4a65-458d-8a1d-163bb6758a6e",
   "metadata": {
    "editable": true,
    "slideshow": {
     "slide_type": "slide"
    },
    "tags": []
   },
   "source": [
    "## Exercise 1"
   ]
  },
  {
   "cell_type": "markdown",
   "id": "b51ae57f-52c5-4062-9613-34028afcf70a",
   "metadata": {
    "editable": true,
    "slideshow": {
     "slide_type": "fragment"
    },
    "tags": []
   },
   "source": [
    "You've computed $\\pi$ quite a few times this past week."
   ]
  },
  {
   "cell_type": "markdown",
   "id": "78a2fc8b-b13d-4221-81e2-9ce238fa8691",
   "metadata": {
    "editable": true,
    "slideshow": {
     "slide_type": "fragment"
    },
    "tags": []
   },
   "source": [
    "Let's do it again, but now with RNGs!"
   ]
  },
  {
   "cell_type": "markdown",
   "id": "de6fdb4d-411b-44cb-a26b-13477e1688b0",
   "metadata": {
    "editable": true,
    "slideshow": {
     "slide_type": "fragment"
    },
    "tags": []
   },
   "source": [
    "**Exercise:** Write a function that computes $\\pi$ using the LCG from above.\n",
    "\n",
    "Hint: Think about throwing darts on something like this.\n",
    "\n",
    "<center>\n",
    "    <img src=\"images/pi_random.svg\" style=\"height:300px;\"/><br/>\n",
    "</center>"
   ]
  },
  {
   "cell_type": "code",
   "execution_count": null,
   "id": "3f4b8ae0-b627-405f-a30e-5b56405a8de3",
   "metadata": {
    "editable": true,
    "slideshow": {
     "slide_type": "fragment"
    },
    "tags": []
   },
   "outputs": [],
   "source": [
    "def calc_pi(rng, num_trials: int) -> float:\n",
    "    \"\"\"Calculate PI with the given RNG\"\"\"\n",
    "    # Your code goes here"
   ]
  },
  {
   "cell_type": "markdown",
   "id": "ce96fd6c-3e85-4dd1-a2c7-29eecd2efb8a",
   "metadata": {
    "editable": true,
    "slideshow": {
     "slide_type": "fragment"
    },
    "tags": []
   },
   "source": [
    "<details>\n",
    "<summary>\n",
    "Answer (Don't look until you're done)\n",
    "</summary>\n",
    "Here are two possible solutions.<br/><br/>\n",
    "\n",
    "This one is faster since it uses more compiled code.\n",
    "<pre><code>\n",
    "def calc_pi(rng, num_trials: int) -> float:\n",
    "    \"\"\"Calculate PI with the given RNG\"\"\"\n",
    "    x = rng.randv(num_trials)\n",
    "    y = rng.randv(num_trials)\n",
    "\n",
    "    in_circle = np.sum(x**2 + y**2 <= 1.0)\n",
    "\n",
    "    return 4*(in_circle/num_trials) \n",
    "</code></pre>\n",
    "\n",
    "<br/>\n",
    "<br/>\n",
    "This one uses less memory.\n",
    "<pre><code>\n",
    "def calc_pi(rng, num_trials: int) -> float:\n",
    "    \"\"\"Calculate PI with the given RNG\"\"\"\n",
    "\n",
    "    in_circle = sum((lcg.rand()**2 + lcg.rand()**2 <= 1.0 for _ in range(num_trials)))\n",
    "\n",
    "    return 4*(in_circle/num_trials) \n",
    "</code></pre>\n",
    "</details>"
   ]
  },
  {
   "cell_type": "markdown",
   "id": "74de74dc-1d13-495e-b039-9c55991afa4a",
   "metadata": {},
   "source": [
    " "
   ]
  },
  {
   "cell_type": "markdown",
   "id": "b6ea7c70-ca81-44a1-842d-62e2ae8da175",
   "metadata": {
    "editable": true,
    "slideshow": {
     "slide_type": "slide"
    },
    "tags": []
   },
   "source": [
    "## Let's now try using it to see if it works"
   ]
  },
  {
   "cell_type": "code",
   "execution_count": null,
   "id": "0cbc6ad6-45e3-43a6-bc31-303b5e0d1bc5",
   "metadata": {
    "editable": true,
    "slideshow": {
     "slide_type": "fragment"
    },
    "tags": []
   },
   "outputs": [],
   "source": [
    "calc_pi(my_lcg, 10_000)"
   ]
  },
  {
   "cell_type": "markdown",
   "id": "8e62dbc3-97e2-442c-bc58-22383a45bf12",
   "metadata": {},
   "source": [
    " "
   ]
  },
  {
   "cell_type": "markdown",
   "id": "cf11a4a2-8c06-40e1-ac9f-0dd67d9b4738",
   "metadata": {
    "editable": true,
    "slideshow": {
     "slide_type": "fragment"
    },
    "tags": []
   },
   "source": [
    "## Let's see how it works as we increase the number of trials"
   ]
  },
  {
   "cell_type": "code",
   "execution_count": null,
   "id": "a4a8192e-152d-42de-95da-3afc394a697d",
   "metadata": {
    "editable": true,
    "slideshow": {
     "slide_type": "fragment"
    },
    "tags": []
   },
   "outputs": [],
   "source": [
    "powers=8\n",
    "iterations=10\n",
    "\n",
    "for decade in range(powers) :\n",
    "    trials = 10**decade\n",
    "    pis=np.empty(iterations, dtype=np.float64)\n",
    "    for i in range(iterations):\n",
    "        pis[i] = calc_pi(my_lcg, trials)\n",
    "    pi = np.average(pis)\n",
    "    avg_err = np.average(np.abs(pis - np.pi))\n",
    "    std = np.std(pis)\n",
    "    print(f\"{trials:8d} trials:\", end=\" \")\n",
    "    print(f\"pi = {pi:1.7f}\", end=\", \")\n",
    "    print(f\"avg err = {avg_err:1.7f}\", end=\", \")\n",
    "    print(f\"std = {std:1.7f}\")"
   ]
  },
  {
   "cell_type": "markdown",
   "id": "ad29400d-56ef-433c-be1f-a8810e26d386",
   "metadata": {},
   "source": [
    " "
   ]
  },
  {
   "cell_type": "markdown",
   "id": "dee63fcc-4335-47f7-bdd5-18842340ab1a",
   "metadata": {
    "editable": true,
    "slideshow": {
     "slide_type": "fragment"
    },
    "tags": []
   },
   "source": [
    "As we increase the number of trials the calculated value of $\\pi$ becomes more accurate, so that seems good."
   ]
  },
  {
   "cell_type": "markdown",
   "id": "c28889b7-4f1e-49fa-9805-c4d366f87d12",
   "metadata": {
    "editable": true,
    "slideshow": {
     "slide_type": "slide"
    },
    "tags": []
   },
   "source": [
    "## Testing RNGs"
   ]
  },
  {
   "cell_type": "markdown",
   "id": "366b8f9d-25c0-4ecd-bed7-48f25c2741e0",
   "metadata": {
    "editable": true,
    "slideshow": {
     "slide_type": "fragment"
    },
    "tags": []
   },
   "source": [
    "- When developing an RNG, one needs to check if it's \"good enough\" for the intended use case. There is no definitive test, but there is a variety of checks that could be done."
   ]
  },
  {
   "cell_type": "markdown",
   "id": "cf9d50ca-3621-43e1-8c98-b7371f77fa5d",
   "metadata": {
    "editable": true,
    "slideshow": {
     "slide_type": "fragment"
    },
    "tags": []
   },
   "source": [
    "- Example tests\n",
    "  - Does it have a frequency distribution that is sensible? (in 1 or $N$ dimensions)\n",
    "  - Are \"gaps\" between occurances correlated?\n",
    "  - Are \"runs\" of numbers correlated?\n",
    "  - Is the sequence length long enough for your application?\n",
    "  - Are future numbers in the sequence easily predictible?\n",
    "  - ..."
   ]
  },
  {
   "cell_type": "markdown",
   "id": "c303c6f2-e625-41da-8a26-c4e6bcd02c65",
   "metadata": {
    "editable": true,
    "slideshow": {
     "slide_type": "fragment"
    },
    "tags": []
   },
   "source": [
    "- The current gold standard is [TestU01](https://simul.iro.umontreal.ca/testu01/tu01.html), which contains a battery of empirical tests."
   ]
  },
  {
   "cell_type": "markdown",
   "id": "f3cb2978-2e40-465c-b40d-41a0d5e8d44a",
   "metadata": {
    "editable": true,
    "slideshow": {
     "slide_type": "slide"
    },
    "tags": []
   },
   "source": [
    "## Let's implement some simple tests"
   ]
  },
  {
   "cell_type": "code",
   "execution_count": null,
   "id": "d9c7a294-ed50-4038-aa1f-3a29ecbb396e",
   "metadata": {
    "editable": true,
    "slideshow": {
     "slide_type": "fragment"
    },
    "tags": []
   },
   "outputs": [],
   "source": [
    "import scipy\n",
    "def print_info(hist):\n",
    "    n_entries = int(hist.sum())\n",
    "    dim = len(h.shape)\n",
    "    print(f\"dim: {dim:1d}\",end=\", \")\n",
    "    print(f\"avg counts: {np.average(h):8.2f} sqrt of avg:{np.sqrt(np.average(h)):7.2f}\",end=\", \")\n",
    "    print(f\"std: {np.std(h):7.2f}\",end=\", \")\n",
    "    print(f\"chi2 pvalue: {scipy.stats.chisquare(np.resize(h.counts(),(n_entries,1))).pvalue[0]:2.8f}\")"
   ]
  },
  {
   "cell_type": "code",
   "execution_count": null,
   "id": "a9953db8-e49e-4190-a2be-8fb279690dea",
   "metadata": {
    "editable": true,
    "slideshow": {
     "slide_type": "fragment"
    },
    "tags": []
   },
   "outputs": [],
   "source": [
    "from hist import Hist\n",
    "\n",
    "n_rand = 1_000_000\n",
    "rand_nums = my_lcg.randv(n_rand)\n",
    "h = (\n",
    "    Hist.new.Reg(50, 0, 1, name=\"x\")\n",
    "    .Int64()\n",
    ")\n",
    "h.fill(x=rand_nums)\n",
    "print_info(h)"
   ]
  },
  {
   "cell_type": "code",
   "execution_count": null,
   "id": "ac48ebe8-21f1-42f8-9346-018a5b53d1bc",
   "metadata": {
    "editable": true,
    "slideshow": {
     "slide_type": "fragment"
    },
    "tags": []
   },
   "outputs": [],
   "source": [
    "h.plot()"
   ]
  },
  {
   "cell_type": "markdown",
   "id": "a538e3dd-24fb-416d-8b8b-36c6e82b8afb",
   "metadata": {
    "editable": true,
    "slideshow": {
     "slide_type": "slide"
    },
    "tags": []
   },
   "source": [
    "# 3 common pitfalls (and how to avoid them)"
   ]
  },
  {
   "cell_type": "markdown",
   "id": "264d5413-df24-4fd1-9bab-cc3bcdfd0898",
   "metadata": {
    "editable": true,
    "slideshow": {
     "slide_type": "slide"
    },
    "tags": []
   },
   "source": [
    "## Pitfall #1: Using a bad RNG"
   ]
  },
  {
   "cell_type": "markdown",
   "id": "ce1cbae2-37b5-4af8-be89-f08f166ca42d",
   "metadata": {
    "editable": true,
    "slideshow": {
     "slide_type": "fragment"
    },
    "tags": []
   },
   "source": [
    "- If you blindly use any RNG that you are handed, it is easy to not realize that you are using a bad RNG."
   ]
  },
  {
   "cell_type": "markdown",
   "id": "16a40927-8c72-4f13-857a-7ac3a24e0321",
   "metadata": {
    "editable": true,
    "slideshow": {
     "slide_type": "fragment"
    },
    "tags": []
   },
   "source": [
    "- Let's look at an infamous example, [IBM's RANDU](https://en.wikipedia.org/wiki/RANDU) generator. It was widely used in the 60s and 70s."
   ]
  },
  {
   "cell_type": "code",
   "execution_count": null,
   "id": "205c6918-3d19-4cf7-b625-2d314233e9de",
   "metadata": {
    "editable": true,
    "slideshow": {
     "slide_type": "fragment"
    },
    "tags": []
   },
   "outputs": [],
   "source": [
    "randu = LCG(seed=1, multiplier=65539, addend=0, modulus=2**31)"
   ]
  },
  {
   "cell_type": "markdown",
   "id": "3f61be41-c575-4ae8-b840-13a1cc81d6eb",
   "metadata": {
    "editable": true,
    "slideshow": {
     "slide_type": "slide"
    },
    "tags": []
   },
   "source": [
    "## Let's perform the simple checks we implemented above."
   ]
  },
  {
   "cell_type": "code",
   "execution_count": null,
   "id": "02138172-6f86-4fd6-80d8-b80be4695c71",
   "metadata": {
    "editable": true,
    "slideshow": {
     "slide_type": "fragment"
    },
    "tags": []
   },
   "outputs": [],
   "source": [
    "n_rand = 1_000_000\n",
    "rand_nums = randu.randv(n_rand)\n",
    "h = (\n",
    "    Hist.new.Reg(50, 0, 1, name=\"x\")\n",
    "    .Int64()\n",
    ")\n",
    "h.fill(x=rand_nums)\n",
    "print_info(h)"
   ]
  },
  {
   "cell_type": "code",
   "execution_count": null,
   "id": "d5ba7ec2-10ec-4b8d-8ae7-cceaee8821fd",
   "metadata": {
    "editable": true,
    "slideshow": {
     "slide_type": "fragment"
    },
    "tags": []
   },
   "outputs": [],
   "source": [
    "h.plot()"
   ]
  },
  {
   "cell_type": "markdown",
   "id": "960f38f9-4f50-473b-91ce-b1401b0d0103",
   "metadata": {
    "editable": true,
    "slideshow": {
     "slide_type": "fragment"
    },
    "tags": []
   },
   "source": [
    "So far, everything looks good."
   ]
  },
  {
   "cell_type": "markdown",
   "id": "667a94a9-a5c4-4fcd-a587-06b0384c600f",
   "metadata": {
    "editable": true,
    "slideshow": {
     "slide_type": "slide"
    },
    "tags": []
   },
   "source": [
    "## Now let's try to generate points in 3D"
   ]
  },
  {
   "cell_type": "code",
   "execution_count": null,
   "id": "6f6e4200-1a63-4afb-b03e-1f4a2715f513",
   "metadata": {
    "editable": true,
    "slideshow": {
     "slide_type": "fragment"
    },
    "tags": []
   },
   "outputs": [],
   "source": [
    "n_rand = 3_000_000\n",
    "rand_nums = randu.randv(n_rand)\n",
    "h = (\n",
    "    Hist\n",
    "    .new\n",
    "    .Reg(50, 0, 1, name=\"x\")\n",
    "    .Reg(50, 0, 1, name=\"y\")\n",
    "    .Reg(50, 0, 1, name=\"z\")\n",
    "    .Int64()\n",
    ")\n",
    "h.fill(\n",
    "    x=rand_nums[0::3],\n",
    "    y=rand_nums[1::3],\n",
    "    z=rand_nums[2::3],\n",
    ")\n",
    "print_info(h)"
   ]
  },
  {
   "cell_type": "markdown",
   "id": "3030bcd9-ec9f-4080-94d2-d8aaa67b0ac3",
   "metadata": {
    "editable": true,
    "slideshow": {
     "slide_type": "fragment"
    },
    "tags": []
   },
   "source": [
    "The $p$-value is 0?! That doesn't look right. Let's plot the points we generated to see how they look."
   ]
  },
  {
   "cell_type": "code",
   "execution_count": null,
   "id": "a0b4f720-9657-43ed-b8a5-3fab1704e441",
   "metadata": {
    "editable": true,
    "slideshow": {
     "slide_type": "fragment"
    },
    "tags": []
   },
   "outputs": [],
   "source": [
    "%matplotlib widget\n",
    "\n",
    "import matplotlib.pyplot as plt\n",
    "\n",
    "fig = plt.figure()\n",
    "ax = fig.add_subplot(projection=\"3d\")\n",
    "\n",
    "x=rand_nums[0:10000:3]\n",
    "y=rand_nums[1:10001:3]\n",
    "z=rand_nums[2:10002:3]\n",
    "\n",
    "ax.scatter(x, y, z)\n",
    "\n",
    "plt.show()"
   ]
  },
  {
   "cell_type": "markdown",
   "id": "1e0b8721-c398-4dc6-8a53-9f7a57bbf38c",
   "metadata": {
    "editable": true,
    "slideshow": {
     "slide_type": "fragment"
    },
    "tags": []
   },
   "source": [
    "The points generated sit on a set of planes. So the coordinates are correlated!"
   ]
  },
  {
   "cell_type": "markdown",
   "id": "75a1a9aa-c264-48cc-9355-e615c556adee",
   "metadata": {
    "editable": true,
    "slideshow": {
     "slide_type": "slide"
    },
    "tags": []
   },
   "source": [
    "## How to avoid this pitfall\n",
    "\n",
    "Always use RNGs that have been well tested. Always use a library instead of trying to implement your own RNG."
   ]
  },
  {
   "cell_type": "markdown",
   "id": "52984508-4eea-4cfd-baf9-7ba257573baf",
   "metadata": {
    "editable": true,
    "slideshow": {
     "slide_type": "slide"
    },
    "tags": []
   },
   "source": [
    "## Pitfall #2: Abusing RNGs"
   ]
  },
  {
   "cell_type": "markdown",
   "id": "10916533-b7eb-4a08-bde1-8c0a5aaf90e0",
   "metadata": {
    "editable": true,
    "slideshow": {
     "slide_type": "fragment"
    },
    "tags": []
   },
   "source": [
    "- RNGs have limitations."
   ]
  },
  {
   "cell_type": "markdown",
   "id": "f4313fa0-a7e7-4ca3-9b08-3e66f3c143a5",
   "metadata": {
    "editable": true,
    "slideshow": {
     "slide_type": "fragment"
    },
    "tags": []
   },
   "source": [
    "- PRNGs output a finite sequence that will eventually start repeating.\n",
    "\n",
    "<center>\n",
    "    <img src=\"images/rng_sequence.svg\" style=\"height:80px;\"/><br/>\n",
    "</center>"
   ]
  },
  {
   "cell_type": "markdown",
   "id": "7802cce6-21f7-4d39-9895-44b07c5260cc",
   "metadata": {
    "editable": true,
    "slideshow": {
     "slide_type": "fragment"
    },
    "tags": []
   },
   "source": [
    "- You should always make sure that only part of the available sequence is used.\n",
    "\n",
    "<center>\n",
    "    <img src=\"images/rng_good_subsequence.svg\" style=\"height:80px;\"/><br/>\n",
    "</center>"
   ]
  },
  {
   "cell_type": "markdown",
   "id": "765e0ed3-30e0-4559-b830-5a2ef320fc21",
   "metadata": {
    "editable": true,
    "slideshow": {
     "slide_type": "fragment"
    },
    "tags": []
   },
   "source": [
    "- If you use the PRNG beyond the number of elements in it's output sequence, then you'll start reusing the sequence, which means that you are no longer using \"random\" numbers.\n",
    "\n",
    "<center>\n",
    "    <img src=\"images/rng_reused_subsequence.svg\" style=\"height:120px;\"/><br/>\n",
    "</center>"
   ]
  },
  {
   "cell_type": "markdown",
   "id": "d08aa0f8-b975-4f7c-a33d-2353fe2af833",
   "metadata": {
    "editable": true,
    "slideshow": {
     "slide_type": "fragment"
    },
    "tags": []
   },
   "source": [
    "Earlier, we computed $\\pi$ as follows."
   ]
  },
  {
   "cell_type": "code",
   "execution_count": null,
   "id": "9e272fa2-42d8-47f6-b8e6-116337e2f0f9",
   "metadata": {
    "editable": true,
    "slideshow": {
     "slide_type": "fragment"
    },
    "tags": []
   },
   "outputs": [],
   "source": [
    "calc_pi(my_rng, 1_000_000)"
   ]
  },
  {
   "cell_type": "markdown",
   "id": "62015dfa-8ec1-4ce1-878d-66e2a35e0873",
   "metadata": {
    "editable": true,
    "slideshow": {
     "slide_type": "fragment"
    },
    "tags": []
   },
   "source": [
    "But if you look at how we defined the LCG above, the output sequence repeats every 714,025 elements. So we were actually reusing part of the sequence for this computation! If you take a closer look, you'll see that the average error and standard deviations we were getting were too small.\n",
    "\n",
    "Modern PRNGs have extremely large periods, so this doesn't tend to be an issue. But they could still have limitations that affect your particular use case."
   ]
  },
  {
   "cell_type": "markdown",
   "id": "36171316-7eef-4a5e-b4c1-0bd50fdc9b8a",
   "metadata": {
    "editable": true,
    "slideshow": {
     "slide_type": "slide"
    },
    "tags": []
   },
   "source": [
    "## How to avoid this pitfall\n",
    "\n",
    "Know the limitations of the RNG you are using."
   ]
  },
  {
   "cell_type": "markdown",
   "id": "b88db863-84b8-4e98-a924-e8a955dddcc4",
   "metadata": {
    "editable": true,
    "slideshow": {
     "slide_type": "slide"
    },
    "tags": []
   },
   "source": [
    "## Pitfall #3: Bad parallelization"
   ]
  },
  {
   "cell_type": "markdown",
   "id": "80c445f0-4384-4c49-af5d-b3377b0e22de",
   "metadata": {
    "editable": true,
    "slideshow": {
     "slide_type": "fragment"
    },
    "tags": []
   },
   "source": [
    "- It's very common having to parallelize a computation that uses RNGs, and it's easy to overlook the steps needed to do it correctly."
   ]
  },
  {
   "cell_type": "markdown",
   "id": "7c8eb538-6653-4203-8ea8-9870246eb08e",
   "metadata": {
    "editable": true,
    "slideshow": {
     "slide_type": "fragment"
    },
    "tags": []
   },
   "source": [
    "- Let's run the tests of the $\\pi$ computation we did above, but now running the iterations asynchronously."
   ]
  },
  {
   "cell_type": "code",
   "execution_count": null,
   "id": "c37eb333-c99b-4cb0-ba2c-0dddf01a88aa",
   "metadata": {
    "editable": true,
    "slideshow": {
     "slide_type": "fragment"
    },
    "tags": []
   },
   "outputs": [],
   "source": [
    "from concurrent.futures import ThreadPoolExecutor\n",
    "powers=8\n",
    "iterations=10\n",
    "\n",
    "with ThreadPoolExecutor(max_workers=4) as executor:\n",
    "    for decade in range(powers) :\n",
    "        trials = 10**decade\n",
    "        futures = []\n",
    "        for i in range(iterations):\n",
    "            lcg = LCG()\n",
    "            futures.append(\n",
    "                executor.submit(calc_pi, lcg, trials)\n",
    "            )\n",
    "        pis = np.array([f.result() for f in futures])     \n",
    "        pi = np.average(pis)\n",
    "        avg_err = np.average(np.abs(pis - np.pi))\n",
    "        std = np.std(pis)\n",
    "        print(f\"{trials:8d} trials:\", end=\" \")\n",
    "        print(f\"pi = {pi:1.7f}\", end=\", \")\n",
    "        print(f\"avg err = {avg_err:1.7f}\", end=\", \")\n",
    "        print(f\"std = {std:1.7f}\")"
   ]
  },
  {
   "cell_type": "markdown",
   "id": "5241bb9c-5ab8-4d5c-b9e3-3286a4380544",
   "metadata": {
    "editable": true,
    "slideshow": {
     "slide_type": "fragment"
    },
    "tags": []
   },
   "source": [
    "Hold on... all the standard deviations are zero, so that means that all iterations are returning the exact same result!"
   ]
  },
  {
   "cell_type": "markdown",
   "id": "36571a7a-1138-43c1-9358-a8fe81fc039c",
   "metadata": {
    "editable": true,
    "slideshow": {
     "slide_type": "fragment"
    },
    "tags": []
   },
   "source": [
    "The issue is that all threads are using the same RNG with the same seed. So all threads are reusing the same subsequence.\n",
    "\n",
    "<center>\n",
    "    <img src=\"images/rng_bad_parallel.svg\" style=\"height:120px;\"/><br/>\n",
    "</center>"
   ]
  },
  {
   "cell_type": "markdown",
   "id": "e74a1afd-4398-4aa5-8ee8-1c71206d00cf",
   "metadata": {
    "editable": true,
    "slideshow": {
     "slide_type": "fragment"
    },
    "tags": []
   },
   "source": [
    "A common thing people do is to give different seeds for each thread. But you still run the risk of having overlaps from the subsequences used by each thread.\n",
    "\n",
    "<center>\n",
    "    <img src=\"images/rng_bad_parallel2.svg\" style=\"height:120px;\"/><br/>\n",
    "</center>"
   ]
  },
  {
   "cell_type": "markdown",
   "id": "ffdd15ee-3327-4d53-9332-b04e7315f343",
   "metadata": {
    "editable": true,
    "slideshow": {
     "slide_type": "slide"
    },
    "tags": []
   },
   "source": [
    "## How to avoid this pitfall\n",
    "\n",
    "- Use RNGs that produce different sequences for each thread/process.\n",
    "- Modern libraries have tools specifically designed for this."
   ]
  },
  {
   "cell_type": "markdown",
   "id": "e7efa4ad-2c5e-4013-98b2-3e8f3759f28e",
   "metadata": {
    "editable": true,
    "slideshow": {
     "slide_type": "fragment"
    },
    "tags": []
   },
   "source": [
    "- For example, `NumPy` is moving away from having a global RNG to having RNG objects that can then passed to threads."
   ]
  },
  {
   "cell_type": "code",
   "execution_count": null,
   "id": "11e8ebce-feda-4fac-9d3a-a7d48dd133f8",
   "metadata": {
    "editable": true,
    "slideshow": {
     "slide_type": "fragment"
    },
    "tags": []
   },
   "outputs": [],
   "source": [
    "# The old way to use RNG\n",
    "np.random.rand()"
   ]
  },
  {
   "cell_type": "code",
   "execution_count": null,
   "id": "5724f746-3b3e-4dea-8902-728cccfac0eb",
   "metadata": {
    "editable": true,
    "slideshow": {
     "slide_type": "fragment"
    },
    "tags": []
   },
   "outputs": [],
   "source": [
    "# The new recommended way to use RNG\n",
    "rng = np.random.default_rng()\n",
    "rng.random()"
   ]
  },
  {
   "cell_type": "markdown",
   "id": "ab13a253-b9e7-437e-b857-3bc2e919c9f7",
   "metadata": {
    "editable": true,
    "slideshow": {
     "slide_type": "fragment"
    },
    "tags": []
   },
   "source": [
    "These objects can spawn child RNG objects that are independent and can be used for parallelization."
   ]
  },
  {
   "cell_type": "code",
   "execution_count": null,
   "id": "6e891a69-c743-458b-a334-d6aaeabdc94d",
   "metadata": {
    "editable": true,
    "slideshow": {
     "slide_type": "fragment"
    },
    "tags": []
   },
   "outputs": [],
   "source": [
    "rng.spawn(4)"
   ]
  },
  {
   "cell_type": "markdown",
   "id": "9c0f6de2-e272-49b5-9336-cdc7e490b750",
   "metadata": {
    "editable": true,
    "slideshow": {
     "slide_type": "fragment"
    },
    "tags": []
   },
   "source": [
    " "
   ]
  },
  {
   "cell_type": "markdown",
   "id": "bb72777c-ed0b-40ea-bd19-0fe8975b36df",
   "metadata": {
    "editable": true,
    "slideshow": {
     "slide_type": "slide"
    },
    "tags": []
   },
   "source": [
    "## Exercise 3\n",
    "\n",
    "Using `NumPy` RNGs, resolve the pitfalls we taked about with the following code."
   ]
  },
  {
   "cell_type": "code",
   "execution_count": null,
   "id": "71083072-90dd-4558-9020-06e174a25536",
   "metadata": {
    "editable": true,
    "slideshow": {
     "slide_type": "fragment"
    },
    "tags": []
   },
   "outputs": [],
   "source": [
    "from concurrent.futures import ThreadPoolExecutor\n",
    "powers=8\n",
    "iterations=10\n",
    "\n",
    "def calc_pi(rng, num_trials: int) -> float:\n",
    "    \"\"\"Calculate PI with the given RNG\"\"\"\n",
    "    x = rng.randv(num_trials)\n",
    "    y = rng.randv(num_trials)\n",
    "    in_circle = np.sum(x**2 + y**2 <= 1.0)\n",
    "    return 4*(in_circle/num_trials)\n",
    "\n",
    "with ThreadPoolExecutor(max_workers=4) as executor:\n",
    "    for decade in range(powers) :\n",
    "        trials = 10**decade\n",
    "        futures = []\n",
    "        for i in range(iterations):\n",
    "            lcg = LCG()\n",
    "            futures.append(\n",
    "                executor.submit(calc_pi, lcg, trials)\n",
    "            )\n",
    "        pis = np.array([f.result() for f in futures])     \n",
    "        pi = np.average(pis)\n",
    "        avg_err = np.average(np.abs(pis - np.pi))\n",
    "        std = np.std(pis)\n",
    "        print(f\"{trials:8d} trials:\", end=\" \")\n",
    "        print(f\"pi = {pi:1.7f}\", end=\", \")\n",
    "        print(f\"avg err = {avg_err:1.7f}\", end=\", \")\n",
    "        print(f\"std = {std:1.7f}\")"
   ]
  },
  {
   "cell_type": "markdown",
   "id": "c43bc612-8dff-4a84-ab16-ee44bd65cc0f",
   "metadata": {
    "editable": true,
    "slideshow": {
     "slide_type": "fragment"
    },
    "tags": []
   },
   "source": [
    "<details>\n",
    "<summary>\n",
    "Answer (Don't look until you're done)\n",
    "</summary>\n",
    "\n",
    "<pre><code>\n",
    "from concurrent.futures import ThreadPoolExecutor\n",
    "powers=8\n",
    "iterations=10\n",
    "\n",
    "rng = np.random.default_rng()\n",
    "rngs = rng.spawn(iterations)\n",
    "\n",
    "def calc_pi(rng, num_trials: int) -> float:\n",
    "    \"\"\"Calculate PI with the given RNG\"\"\"\n",
    "    x = rng.random(num_trials)\n",
    "    y = rng.random(num_trials)\n",
    "    in_circle = np.sum(x**2 + y**2 <= 1.0)\n",
    "    return 4*(in_circle/num_trials)\n",
    "\n",
    "with ThreadPoolExecutor(max_workers=4) as executor:\n",
    "    for decade in range(powers) :\n",
    "        trials = 10**decade\n",
    "        futures = []\n",
    "        for i in range(iterations):\n",
    "            futures.append(\n",
    "                executor.submit(calc_pi, rngs[i], trials)\n",
    "            )\n",
    "        pis = np.array([f.result() for f in futures])     \n",
    "        pi = np.average(pis)\n",
    "        avg_err = np.average(np.abs(pis - np.pi))\n",
    "        std = np.std(pis)\n",
    "        print(f\"{trials:8d} trials:\", end=\" \")\n",
    "        print(f\"pi = {pi:1.7f}\", end=\", \")\n",
    "        print(f\"avg err = {avg_err:1.7f}\", end=\", \")\n",
    "        print(f\"std = {std:1.7f}\")\n",
    "</code></pre>\n",
    "</details>"
   ]
  },
  {
   "cell_type": "markdown",
   "id": "5e195d41-6a59-4f59-8a36-26a71dc1b3ab",
   "metadata": {
    "editable": true,
    "slideshow": {
     "slide_type": "slide"
    },
    "tags": []
   },
   "source": [
    "# Summary"
   ]
  },
  {
   "cell_type": "markdown",
   "id": "a871da8a-b3a7-4f1c-9db8-bed306b93a67",
   "metadata": {
    "editable": true,
    "slideshow": {
     "slide_type": "fragment"
    },
    "tags": []
   },
   "source": [
    "- RNGs are very useful tools that are used everywhere."
   ]
  },
  {
   "cell_type": "markdown",
   "id": "355f56a2-89d3-49fd-952a-4f08dd661d87",
   "metadata": {
    "editable": true,
    "slideshow": {
     "slide_type": "fragment"
    },
    "tags": []
   },
   "source": [
    "- There are common pitfalls that are easy to miss, so you should be careful."
   ]
  },
  {
   "cell_type": "markdown",
   "id": "85e9fca4-d691-4ffb-a76d-e04032947cf8",
   "metadata": {
    "editable": true,
    "slideshow": {
     "slide_type": "fragment"
    },
    "tags": []
   },
   "source": [
    "- Always use a library with good RNGs, and make sure to give independent RNGs to different threads/processes."
   ]
  }
 ],
 "metadata": {
  "kernelspec": {
   "display_name": "Python 3 (ipykernel)",
   "language": "python",
   "name": "python3"
  },
  "language_info": {
   "codemirror_mode": {
    "name": "ipython",
    "version": 3
   },
   "file_extension": ".py",
   "mimetype": "text/x-python",
   "name": "python",
   "nbconvert_exporter": "python",
   "pygments_lexer": "ipython3",
   "version": "3.11.7"
  }
 },
 "nbformat": 4,
 "nbformat_minor": 5
}
